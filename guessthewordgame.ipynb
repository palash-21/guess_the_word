{
  "nbformat": 4,
  "nbformat_minor": 0,
  "metadata": {
    "colab": {
      "name": "guessthewordgame.ipynb",
      "provenance": [],
      "collapsed_sections": [],
      "authorship_tag": "ABX9TyPib4hgCd4q3pv/t6gkzdGJ",
      "include_colab_link": true
    },
    "kernelspec": {
      "name": "python3",
      "display_name": "Python 3"
    }
  },
  "cells": [
    {
      "cell_type": "markdown",
      "metadata": {
        "id": "view-in-github",
        "colab_type": "text"
      },
      "source": [
        "<a href=\"https://colab.research.google.com/github/palash-21/guess_the_word/blob/main/guessthewordgame.ipynb\" target=\"_parent\"><img src=\"https://colab.research.google.com/assets/colab-badge.svg\" alt=\"Open In Colab\"/></a>"
      ]
    },
    {
      "cell_type": "code",
      "metadata": {
        "id": "lyintS_YYabh"
      },
      "source": [
        "secret_word = 'PASSWORD'"
      ],
      "execution_count": 1,
      "outputs": []
    },
    {
      "cell_type": "code",
      "metadata": {
        "id": "LQrO8XNpYnEc",
        "colab": {
          "base_uri": "https://localhost:8080/"
        },
        "outputId": "02d944b4-a6dc-4beb-9042-1fcb273ce42b"
      },
      "source": [
        "print(f'guess the word of length : {len(secret_word)}')\n",
        "word = '_'*len(secret_word)\n",
        "print(word)\n",
        "print(' ')\n",
        "no_of_guesses = 0\n",
        "list_word= list(word)\n",
        "list_secret_word= list(secret_word)\n",
        "while no_of_guesses<5:\n",
        "  if word!=secret_word:\n",
        "    guess = input().upper()\n",
        "    if guess in list_secret_word:\n",
        "      index_guess = int(list_secret_word.index(guess))\n",
        "      list_word[index_guess] = guess\n",
        "      word = ''.join(list_word)\n",
        "      print(word)\n",
        "      #print(index_guess)\n",
        "      list_secret_word[index_guess] = '*'\n",
        "      #print(list_secret_word)\n",
        "\n",
        "    else :\n",
        "      no_of_guesses+=1\n",
        "      guesses_remaining = 5 - no_of_guesses\n",
        "      print(f'wrong!!, guesses remaining : {guesses_remaining} ')\n",
        "\n",
        "\n",
        "  elif word == secret_word:\n",
        "    print(\" Congo, you have won!!\")\n",
        "    break\n",
        "  \n",
        "  \n",
        "else :\n",
        "  print('sorry, game is over!!')\n"
      ],
      "execution_count": 2,
      "outputs": [
        {
          "output_type": "stream",
          "text": [
            "guess the word of length : 8\n",
            "________\n",
            " \n",
            "a\n",
            "_A______\n",
            "s\n",
            "_AS_____\n",
            "w\n",
            "_AS_W___\n",
            "k\n",
            "wrong!!, guesses remaining : 4 \n",
            "h\n",
            "wrong!!, guesses remaining : 3 \n",
            "p\n",
            "PAS_W___\n",
            "k\n",
            "wrong!!, guesses remaining : 2 \n",
            "d\n",
            "PAS_W__D\n",
            "o\n",
            "PAS_WO_D\n",
            "s\n",
            "PASSWO_D\n",
            "r\n",
            "PASSWORD\n",
            " Congo, you have won!!\n"
          ],
          "name": "stdout"
        }
      ]
    }
  ]
}